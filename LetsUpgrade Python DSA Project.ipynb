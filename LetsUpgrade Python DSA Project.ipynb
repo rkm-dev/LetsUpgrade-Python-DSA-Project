{
 "cells": [
  {
   "cell_type": "markdown",
   "id": "lyric-terry",
   "metadata": {},
   "source": [
    "# LetsUpgrade Python DSA Project\n",
    "### Amazon Prime and Non-Prime Orders Differentiation"
   ]
  },
  {
   "cell_type": "code",
   "execution_count": 1,
   "id": "metropolitan-helicopter",
   "metadata": {},
   "outputs": [],
   "source": [
    "import string\n",
    "import random"
   ]
  },
  {
   "cell_type": "code",
   "execution_count": 2,
   "id": "insured-whale",
   "metadata": {},
   "outputs": [],
   "source": [
    "# Unique ID Generation (small scale fast implementation)\n",
    "\n",
    "def idGen():\n",
    "    # list of valid ascii charaters and digits for id and OTP generation\n",
    "    tokens = list(string.ascii_letters + string.digits)\n",
    "    uid = ''\n",
    "    for i in range(6):\n",
    "        uid += random.choice(tokens)\n",
    "    return uid"
   ]
  },
  {
   "cell_type": "code",
   "execution_count": 3,
   "id": "passive-pathology",
   "metadata": {},
   "outputs": [],
   "source": [
    "# Amazon store class\n",
    "\n",
    "class Amazon:\n",
    "    def __init__(self):\n",
    "        self.id         = None\n",
    "        self.name       = None\n",
    "        self.email      = None\n",
    "        self.isprime    = 1\n",
    "        self.order_cart = None\n",
    "        \n",
    "    def get_details(self):\n",
    "        self.id = idGen()\n",
    "        self.name  = input('Please enter your Name  : ')\n",
    "        self.email = input('Please enter your Email : ')\n",
    "        \n",
    "    def buy_prime(self):\n",
    "        self.isprime = 0\n",
    "        \n",
    "    def buy_items(self):\n",
    "        print(\"Please enter the cart items separated by a comma and a space ', ' in between the items: \", end=\"\")\n",
    "        self.order_cart = [i for i in input().split(', ')]\n",
    "        "
   ]
  },
  {
   "cell_type": "code",
   "execution_count": 4,
   "id": "continental-upper",
   "metadata": {},
   "outputs": [],
   "source": [
    "# list of users\n",
    "user_list = []"
   ]
  },
  {
   "cell_type": "code",
   "execution_count": 5,
   "id": "sporting-london",
   "metadata": {},
   "outputs": [],
   "source": [
    "# returns the position for the where user has to be inserted in the list\n",
    "\n",
    "def find_user_pos(new_user):\n",
    "    user_count = len(user_list)\n",
    "    pos = 0\n",
    "    for i in range(user_count):\n",
    "        if user_list[i].isprime <= new_user.isprime:\n",
    "            pos += 1\n",
    "    return pos\n",
    "        "
   ]
  },
  {
   "cell_type": "code",
   "execution_count": 9,
   "id": "described-volume",
   "metadata": {},
   "outputs": [
    {
     "name": "stdout",
     "output_type": "stream",
     "text": [
      "Please enter your Name  : Rahul \n",
      "Please enter your Email : rkmpostmail@gmail.com\n",
      "Do you wish to order? y/n : y\n",
      "Please enter the cart items separated by a comma and a space ', ' in between the items: coolpad, nvidia gtx g10, amd zepher z9\n",
      "Do you wish to be a prime member? y/n : y\n",
      "Do you want to add more users? y/ny\n",
      "Please enter your Name  : Tony\n",
      "Please enter your Email : tn\n",
      "Do you wish to order? y/n : y\n",
      "Please enter the cart items separated by a comma and a space ', ' in between the items: brassplate, watercoolpump, watercoolent\n",
      "Do you wish to be a prime member? y/n : n\n",
      "Do you want to add more users? y/ny\n",
      "Please enter your Name  : Manish\n",
      "Please enter your Email : mn\n",
      "Do you wish to order? y/n : y\n",
      "Please enter the cart items separated by a comma and a space ', ' in between the items: Galaxy s10, coverGalaxys10, scratchgaurd\n",
      "Do you wish to be a prime member? y/n : y\n",
      "Do you want to add more users? y/ny\n",
      "Please enter your Name  : Remi\n",
      "Please enter your Email : rm\n",
      "Do you wish to order? y/n : y\n",
      "Please enter the cart items separated by a comma and a space ', ' in between the items: phybook, scalepad, weights, loadmachine\n",
      "Do you wish to be a prime member? y/n : y\n",
      "Do you want to add more users? y/ny\n",
      "Please enter your Name  : Shruti \n",
      "Please enter your Email : sh\n",
      "Do you wish to order? y/n : y\n",
      "Please enter the cart items separated by a comma and a space ', ' in between the items: bioware glass, testtubeborosil, heatlamp, clamps\n",
      "Do you wish to be a prime member? y/n : n\n",
      "Do you want to add more users? y/nn\n"
     ]
    }
   ],
   "source": [
    "flag = True\n",
    "\n",
    "while flag:\n",
    "    new_user = Amazon()\n",
    "    new_user.get_details()\n",
    "    \n",
    "    op1 = input('Do you wish to order? y/n : ')\n",
    "    if op1 == 'y' or op1 == 'Y':\n",
    "        new_user.buy_items()\n",
    "    \n",
    "    op2 = input('Do you wish to be a prime member? y/n : ')\n",
    "    if op2 == 'y' or op2 == 'Y':\n",
    "        new_user.buy_prime()\n",
    "    \n",
    "    pos = find_user_pos(new_user)\n",
    "    user_list.insert(pos, new_user)\n",
    "    \n",
    "    op3 = input('Do you want to add more users? y/n')\n",
    "    if op3 == 'n' or op3 == 'N':\n",
    "        flag = False"
   ]
  },
  {
   "cell_type": "code",
   "execution_count": 13,
   "id": "welsh-ability",
   "metadata": {},
   "outputs": [
    {
     "name": "stdout",
     "output_type": "stream",
     "text": [
      "Rahul ['coolpad', 'nvidia gtx g10', 'amd zepher z9'] 0\n",
      "Tony ['brassplate', 'watercoolpump', 'watercoolent'] 0\n",
      "Rahul  ['coolpad', 'nvidia gtx g10', 'amd zepher z9'] 0\n",
      "Manish ['Galaxy s10', 'coverGalaxys10', 'scratchgaurd'] 0\n",
      "Remi ['phybook', 'scalepad', 'weights', 'loadmachine'] 0\n",
      "Manish ['Galaxy s10', 'coverGalaxys10', 'scratchgaurd'] 1\n",
      "Remi ['phybook', 'scalepad', 'weights', 'loadmachine'] 1\n",
      "shruti ['bioware glass', 'testtubeborosil', 'heatlamp', 'clamps'] 1\n",
      "Tony ['brassplate', 'watercoolpump', 'watercoolent'] 1\n",
      "Shruti  ['bioware glass', 'testtubeborosil', 'heatlamp', 'clamps'] 1\n"
     ]
    }
   ],
   "source": [
    "for i in user_list:\n",
    "    print(i.name, i.order_cart, i.isprime)"
   ]
  },
  {
   "cell_type": "code",
   "execution_count": 14,
   "id": "functional-draft",
   "metadata": {},
   "outputs": [
    {
     "name": "stdout",
     "output_type": "stream",
     "text": [
      "Rahul, your order is being shipped under prime status (fast delivery)\n",
      "Tony, your order is being shipped under prime status (fast delivery)\n",
      "Rahul , your order is being shipped under prime status (fast delivery)\n",
      "Manish, your order is being shipped under prime status (fast delivery)\n",
      "Remi, your order is being shipped under prime status (fast delivery)\n",
      "Manish, your order will be shipped soon\n",
      "Remi, your order will be shipped soon\n",
      "shruti, your order will be shipped soon\n",
      "Tony, your order will be shipped soon\n",
      "Shruti , your order will be shipped soon\n"
     ]
    }
   ],
   "source": [
    "for i in user_list:\n",
    "    if i.isprime == 0:\n",
    "        print(f'{i.name}, your order is being shipped under prime status (fast delivery)')\n",
    "    else:\n",
    "        print(f'{i.name}, your order will be shipped soon')"
   ]
  },
  {
   "cell_type": "code",
   "execution_count": null,
   "id": "cordless-charlotte",
   "metadata": {},
   "outputs": [],
   "source": []
  }
 ],
 "metadata": {
  "kernelspec": {
   "display_name": "Python 3",
   "language": "python",
   "name": "python3"
  },
  "language_info": {
   "codemirror_mode": {
    "name": "ipython",
    "version": 3
   },
   "file_extension": ".py",
   "mimetype": "text/x-python",
   "name": "python",
   "nbconvert_exporter": "python",
   "pygments_lexer": "ipython3",
   "version": "3.8.8"
  }
 },
 "nbformat": 4,
 "nbformat_minor": 5
}
